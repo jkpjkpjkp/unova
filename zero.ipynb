{
 "cells": [
  {
   "cell_type": "code",
   "execution_count": 1,
   "metadata": {},
   "outputs": [
    {
     "data": {
      "application/vnd.jupyter.widget-view+json": {
       "model_id": "d4b699ed67524bf6b48d569dae8799ae",
       "version_major": 2,
       "version_minor": 0
      },
      "text/plain": [
       "interactive(children=(IntSlider(value=0, description='Task Index', max=333), Output()), _dom_classes=('widget-…"
      ]
     },
     "metadata": {},
     "output_type": "display_data"
    },
    {
     "data": {
      "text/plain": [
       "<function __main__.display_task_by_index(index)>"
      ]
     },
     "execution_count": 1,
     "metadata": {},
     "output_type": "execute_result"
    }
   ],
   "source": [
    "import polars as pl\n",
    "from ipywidgets import interact, IntSlider\n",
    "from IPython.display import display, HTML\n",
    "import base64\n",
    "import html\n",
    "\n",
    "# Load the DataFrame from the Parquet file\n",
    "df = pl.read_parquet('/home/jkp/Téléchargements/zerobench_subquestions-00000-of-00001.parquet')\n",
    "\n",
    "def get_mime_type(path):\n",
    "    \"\"\"\n",
    "    Determine the MIME type based on the file extension in the path.\n",
    "    \n",
    "    Args:\n",
    "        path (str): The file path or identifier of the image.\n",
    "    \n",
    "    Returns:\n",
    "        str: The corresponding MIME type (e.g., 'image/png').\n",
    "    \"\"\"\n",
    "    if path.lower().endswith('.png'):\n",
    "        return 'image/png'\n",
    "    elif path.lower().endswith('.jpg') or path.lower().endswith('.jpeg'):\n",
    "        return 'image/jpeg'\n",
    "    elif path.lower().endswith('.gif'):\n",
    "        return 'image/gif'\n",
    "    else:\n",
    "        return 'image/png'  # Default to PNG if unknown\n",
    "\n",
    "def display_task(row):\n",
    "    \"\"\"\n",
    "    Display a single task's details, including text and images.\n",
    "    \n",
    "    Args:\n",
    "        row (dict): A dictionary representing a row from the DataFrame.\n",
    "    \"\"\"\n",
    "    # Escape text fields to prevent HTML injection\n",
    "    question_id = html.escape(str(row['question_id']))\n",
    "    question_text = html.escape(row['question_text'])\n",
    "    question_answer = html.escape(row['question_answer'])\n",
    "    \n",
    "    # Build HTML content for text\n",
    "    html_content = f\"<h3>Question ID: {question_id}</h3>\"\n",
    "    html_content += f\"<p><strong>Question Text:</strong> {question_text}</p>\"\n",
    "    html_content += f\"<p><strong>Answer:</strong> {question_answer}</p>\"\n",
    "    \n",
    "    # Handle images\n",
    "    images = row['question_images_decoded']\n",
    "    if images and len(images) > 0:\n",
    "        html_content += \"<div style='display: flex; flex-wrap: wrap;'>\"\n",
    "        for img in images:\n",
    "            image_data = img['bytes']\n",
    "            path = img['path']\n",
    "            mime_type = get_mime_type(path)\n",
    "            img_base64 = base64.b64encode(image_data).decode('utf-8')\n",
    "            html_content += f\"<img src='data:{mime_type};base64,{img_base64}' style='width: 300px; height: auto; margin: 10px;' />\"\n",
    "        html_content += \"</div>\"\n",
    "    else:\n",
    "        html_content += \"<p>No images available for this task.</p>\"\n",
    "    \n",
    "    # Display the HTML\n",
    "    display(HTML(html_content))\n",
    "\n",
    "def display_task_by_index(index):\n",
    "    \"\"\"\n",
    "    Fetch a row by index and display its task.\n",
    "    \n",
    "    Args:\n",
    "        index (int): The index of the row to display.\n",
    "    \"\"\"\n",
    "    row = df.row(index, named=True)\n",
    "    display_task(row)\n",
    "\n",
    "# Create a slider for navigation\n",
    "slider = IntSlider(\n",
    "    min=0,\n",
    "    max=len(df) - 1,\n",
    "    step=1,\n",
    "    value=0,\n",
    "    description='Task Index'\n",
    ")\n",
    "\n",
    "# Link the slider to the display function\n",
    "interact(display_task_by_index, index=slider)"
   ]
  }
 ],
 "metadata": {
  "kernelspec": {
   "display_name": ".venv",
   "language": "python",
   "name": "python3"
  },
  "language_info": {
   "codemirror_mode": {
    "name": "ipython",
    "version": 3
   },
   "file_extension": ".py",
   "mimetype": "text/x-python",
   "name": "python",
   "nbconvert_exporter": "python",
   "pygments_lexer": "ipython3",
   "version": "3.13.3"
  }
 },
 "nbformat": 4,
 "nbformat_minor": 2
}
